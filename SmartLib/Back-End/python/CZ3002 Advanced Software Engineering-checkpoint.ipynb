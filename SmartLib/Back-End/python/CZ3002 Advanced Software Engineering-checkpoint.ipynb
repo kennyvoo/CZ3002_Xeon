{
 "cells": [
  {
   "cell_type": "code",
   "execution_count": 2,
   "metadata": {},
   "outputs": [
    {
     "data": {
      "text/plain": [
       "<firebase_admin.App at 0x1df2f9075c8>"
      ]
     },
     "execution_count": 2,
     "metadata": {},
     "output_type": "execute_result"
    }
   ],
   "source": [
    "\n",
    "import firebase_admin\n",
    "from firebase_admin import credentials\n",
    "\n",
    "cred = credentials.Certificate(\"C:\\\\Users\\\\23535\\\\Downloads\\\\cz3002-33787-firebase-adminsdk-mu28c-1e723ddc02.json\")\n",
    "firebase_admin.initialize_app(cred)\n"
   ]
  },
  {
   "cell_type": "code",
   "execution_count": 9,
   "metadata": {},
   "outputs": [],
   "source": [
    "from firebase_admin import firestore\n",
    "db = firestore.client()"
   ]
  },
  {
   "cell_type": "code",
   "execution_count": 114,
   "metadata": {},
   "outputs": [],
   "source": [
    "Booking_Rec_ref = db.collection(u'Booking_Rec')\n",
    "class Booking_Rec(object):\n",
    "    index = -1\n",
    "    def __init__(self,AID, Booked_time, Start_time, End_time, LID, SID):\n",
    "        self.AID = AID\n",
    "        self.Booked_time = Booked_time\n",
    "        self.Start_time = Start_time\n",
    "        self.End_time = End_time\n",
    "        self.LID = LID\n",
    "        self.SID = SID\n",
    "        Booking_Rec.index +=1\n",
    "    def to_dict(self):\n",
    "        return({\n",
    "            \"AID\":self.AID,\n",
    "            \"Booked_time\":self.Booked_time,\n",
    "            \"End_time\":self.End_time,\n",
    "            \"LID\":self.LID,\n",
    "            \"SID\":self.SID,\n",
    "            \"Start_time\":self.Start_time,\n",
    "        }\n",
    "        )\n",
    "    def write(self):\n",
    "        Booking_Rec_ref.document(str(Booking_Rec.index)).set(self.to_dict())\n",
    "    @staticmethod\n",
    "    def from_dict(d):\n",
    "        return(\n",
    "            Booking_Rec(d['AID'],d['Booked_time'],d['Start_time'],d['End_time'],d['LID'],d['SID'])\n",
    "        )\n",
    "    def reset():\n",
    "        Booking_Rec.index = -1\n",
    "    def update(doc, key, value):\n",
    "        db.collection(u'Booking_Rec').document(str(doc)).update({key: value})\n",
    "    def read_to_dic(doc):\n",
    "        return(\n",
    "            db.collection(u'Booking_Rec').document(str(doc)).get().to_dict()\n",
    "        )\n",
    "    def read_to_cla(doc):\n",
    "        return(\n",
    "            Booking_Rec.from_dict(db.collection(u'Booking_Rec').document(str(doc)).get().to_dict())\n",
    "        )"
   ]
  },
  {
   "cell_type": "code",
   "execution_count": 115,
   "metadata": {},
   "outputs": [],
   "source": [
    "Seats_ref = db.collection(u'Seats')\n",
    "class Seats(object):\n",
    "    index = -1\n",
    "    def __init__(self, LID, status):\n",
    "        self.status = status\n",
    "        self.LID = LID\n",
    "        Seats.index +=1\n",
    "    def to_dict(self):\n",
    "        return({\n",
    "            \"LID\":self.LID,\n",
    "            \"status\":self.status,\n",
    "        }\n",
    "        )\n",
    "    def write(self):\n",
    "        Seats_ref.document(str(Seats.index)).set(self.to_dict())\n",
    "    @staticmethod\n",
    "    def from_dict(d):\n",
    "        return(\n",
    "            Seats(d['LID'],d['status'])\n",
    "        )\n",
    "    def reset():\n",
    "        Seats.index = -1\n",
    "    def update(doc, key, value):\n",
    "        db.collection(u'Seats').document(str(doc)).update({key: value})\n",
    "    def read_to_dic(doc):\n",
    "        return(\n",
    "            db.collection(u'Seats').document(str(doc)).get().to_dict()\n",
    "        )\n",
    "    def read_to_cla(doc):\n",
    "        return(\n",
    "            Seats.from_dict(db.collection(u'Seats').document(str(doc)).get().to_dict())\n",
    "        )"
   ]
  },
  {
   "cell_type": "code",
   "execution_count": 116,
   "metadata": {},
   "outputs": [],
   "source": [
    "Libraries_ref = db.collection(u'Libraries')\n",
    "class Libraries(object):\n",
    "    index = -1\n",
    "    def __init__(self, location, name):\n",
    "        self.location = location\n",
    "        self.name = name\n",
    "        Libraries.index +=1\n",
    "    def to_dict(self):\n",
    "        return({\n",
    "            \"location\":self.location,\n",
    "            \"name\":self.name,\n",
    "        }\n",
    "        )\n",
    "    def write(self):\n",
    "        Libraries_ref.document(str(Libraries.index)).set(self.to_dict())\n",
    "    @staticmethod\n",
    "    def from_dict(d):\n",
    "        return(\n",
    "            Libraries(d['location'],d['name'])\n",
    "        )\n",
    "    def reset():\n",
    "        Libraries.index = -1\n",
    "    def update(doc, key, value):\n",
    "        db.collection(u'Libraries').document(str(doc)).update({key: value})\n",
    "    def read_to_dic(doc):\n",
    "        return(\n",
    "            db.collection(u'Libraries').document(str(doc)).get().to_dict()\n",
    "        )\n",
    "    def read_to_cla(doc):\n",
    "        return(\n",
    "            Libraries.from_dict(db.collection(u'Libraries').document(str(doc)).get().to_dict())\n",
    "        )"
   ]
  },
  {
   "cell_type": "code",
   "execution_count": 119,
   "metadata": {},
   "outputs": [],
   "source": [
    "Users_ref = db.collection(u'Users')\n",
    "class Users(object):\n",
    "    index = -1\n",
    "    def __init__(self, password):\n",
    "        self.password = password\n",
    "        Users.index +=1\n",
    "    def to_dict(self):\n",
    "        return({\n",
    "            \"password\":self.password\n",
    "        }\n",
    "        )\n",
    "    def write(self):\n",
    "        Users_ref.document(str(Users.index)).set(self.to_dict())\n",
    "    @staticmethod\n",
    "    def from_dict(d):\n",
    "        return(\n",
    "            Users(d['password'])\n",
    "        )\n",
    "    def reset():\n",
    "        Users.index = -1\n",
    "    def update(doc, key, value):\n",
    "        db.collection(u'Users').document(str(doc)).update({key: value})\n",
    "    def read_to_dic(doc):\n",
    "        return(\n",
    "            db.collection(u'Users').document(str(doc)).get().to_dict()\n",
    "        )\n",
    "    def read_to_cla(doc):\n",
    "        return(\n",
    "            Users.from_dict(db.collection(u'Users').document(str(doc)).get().to_dict())\n",
    "        )"
   ]
  },
  {
   "cell_type": "code",
   "execution_count": 122,
   "metadata": {},
   "outputs": [],
   "source": [
    "Admin_ref = db.collection(u'Admin')\n",
    "class Admin(object):\n",
    "    index = -1\n",
    "    def __init__(self, password, LID):\n",
    "        self.password = password\n",
    "        self.LID = LID\n",
    "        Admin.index +=1\n",
    "    def to_dict(self):\n",
    "        return({\n",
    "            \"LID\":self.LID,\n",
    "            \"password\":self.password,\n",
    "        }\n",
    "        )\n",
    "    def write(self):\n",
    "        Admin_ref.document(str(Admin.index)).set(self.to_dict())\n",
    "    @staticmethod\n",
    "    def from_dict(d):\n",
    "        return(\n",
    "            Admin(d['password'],d['LID'])\n",
    "        )\n",
    "    def reset():\n",
    "        Admin.index = -1\n",
    "    def update(doc, key, value):\n",
    "        db.collection(u'Admin').document(str(doc)).update({key: value})\n",
    "    def read_to_dic(doc):\n",
    "        return(\n",
    "            db.collection(u'Admin').document(str(doc)).get().to_dict()\n",
    "        )\n",
    "    def read_to_cla(doc):\n",
    "        return(\n",
    "            Admin.from_dict(db.collection(u'Admin').document(str(doc)).get().to_dict())\n",
    "        )"
   ]
  },
  {
   "cell_type": "code",
   "execution_count": 123,
   "metadata": {},
   "outputs": [],
   "source": [
    "Students_ref = db.collection(u'Students')\n",
    "class Students(object):\n",
    "    index = -1\n",
    "    def __init__(self, password, name, has_reserved):\n",
    "        self.password = password\n",
    "        self.name = name\n",
    "        self.has_reserved = has_reserved\n",
    "        Students.index +=1\n",
    "    def to_dict(self):\n",
    "        return({\n",
    "            \"password\":self.password,\n",
    "            \"name\":self.name,\n",
    "            \"has_reserved\":self.has_reserved\n",
    "        }\n",
    "        )\n",
    "    def write(self):\n",
    "        Students_ref.document(str(Students.index)).set(self.to_dict())\n",
    "    @staticmethod\n",
    "    def from_dict(d):\n",
    "        return(\n",
    "            Students(d['password'],d['name'],d['has_reserved'])\n",
    "        )\n",
    "    def reset():\n",
    "        Students.index = -1\n",
    "    def update(doc, key, value):\n",
    "        db.collection(u'Students').document(str(doc)).update({key: value})\n",
    "    def read_to_dic(doc):\n",
    "        return(\n",
    "            db.collection(u'Students').document(str(doc)).get().to_dict()\n",
    "        )\n",
    "    def read_to_cla(doc):\n",
    "        return(\n",
    "            Students.from_dict(db.collection(u'Students').document(str(doc)).get().to_dict())\n",
    "        )"
   ]
  },
  {
   "cell_type": "code",
   "execution_count": 81,
   "metadata": {},
   "outputs": [],
   "source": [
    "import datetime\n",
    "x = datetime.datetime.now()\n",
    "Booking_Rec(3, 300, x, 0, 0,x).write()"
   ]
  },
  {
   "cell_type": "code",
   "execution_count": 94,
   "metadata": {},
   "outputs": [],
   "source": [
    "Booking_Rec.reset()"
   ]
  },
  {
   "cell_type": "code",
   "execution_count": 95,
   "metadata": {},
   "outputs": [],
   "source": [
    "Booking_Rec(2, 300, x, 0, 0,x).write()"
   ]
  },
  {
   "cell_type": "code",
   "execution_count": 103,
   "metadata": {},
   "outputs": [
    {
     "data": {
      "text/plain": [
       "<__main__.Booking_Rec at 0x1df357bdfc8>"
      ]
     },
     "execution_count": 103,
     "metadata": {},
     "output_type": "execute_result"
    }
   ],
   "source": [
    "Booking_Rec.read_to_cla(0)"
   ]
  },
  {
   "cell_type": "code",
   "execution_count": 110,
   "metadata": {},
   "outputs": [],
   "source": [
    "Seats(0,\"hogged\").write()"
   ]
  },
  {
   "cell_type": "code",
   "execution_count": null,
   "metadata": {},
   "outputs": [],
   "source": []
  }
 ],
 "metadata": {
  "kernelspec": {
   "display_name": "Python 3",
   "language": "python",
   "name": "python3"
  },
  "language_info": {
   "codemirror_mode": {
    "name": "ipython",
    "version": 3
   },
   "file_extension": ".py",
   "mimetype": "text/x-python",
   "name": "python",
   "nbconvert_exporter": "python",
   "pygments_lexer": "ipython3",
   "version": "3.8.5"
  }
 },
 "nbformat": 4,
 "nbformat_minor": 2
}
