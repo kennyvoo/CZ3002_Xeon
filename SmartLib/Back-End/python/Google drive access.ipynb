{
 "cells": [
  {
   "cell_type": "code",
   "execution_count": 1,
   "metadata": {},
   "outputs": [
    {
     "name": "stdout",
     "output_type": "stream",
     "text": [
      "Your browser has been opened to visit:\n",
      "\n",
      "    https://accounts.google.com/o/oauth2/auth?client_id=830752960536-ibup9rkb1p8h2v4ig8csiav3f0nqol6m.apps.googleusercontent.com&redirect_uri=http%3A%2F%2Flocalhost%3A8080%2F&scope=https%3A%2F%2Fwww.googleapis.com%2Fauth%2Fdrive&access_type=offline&response_type=code\n",
      "\n",
      "Authentication successful.\n"
     ]
    }
   ],
   "source": [
    "from pydrive.auth import GoogleAuth\n",
    "from pydrive.drive import GoogleDrive\n",
    "\n",
    "gauth = GoogleAuth()\n",
    "gauth.LocalWebserverAuth() # client_secrets.json need to be in the same directory as the script\n",
    "drive = GoogleDrive(gauth)"
   ]
  },
  {
   "cell_type": "code",
   "execution_count": 17,
   "metadata": {},
   "outputs": [],
   "source": [
    "import os\n",
    "import time\n",
    "from datetime import datetime\n",
    "import requests"
   ]
  },
  {
   "cell_type": "code",
   "execution_count": 3,
   "metadata": {},
   "outputs": [
    {
     "name": "stdout",
     "output_type": "stream",
     "text": [
      "Title: CZ3002 Pictures, ID: 1cCb0a9gKnRMP035Ts_q8Y2P5Kfhk2yQ_\n",
      "Title: Untitled Diagram.drawio, ID: 1SC_KQHEbkVyYYLk9lFjZUZ3LcEfxRe8v\n",
      "Title: 项目计划书, ID: 1TezH9Tsdn7ee_v5KXl6XePa4DUw5pPiPgXIARU9dGYE\n",
      "Title: Relational Tables, ID: 1DLfvoD67lh6C611RFvzM1n8C7L6XtdTd2c0mGnRsgDw\n",
      "Title: Table Tennis Animation.unitypackage, ID: 1dM_WHKJaVMApmxnqjrvyPuhLBVKswHfk\n",
      "Title: 简历, ID: 1poRTn79u7RaUe3s36g-OLnEiswg5qanLktXknvfdI8w\n",
      "Title: 无标题文档, ID: 1_d9iKeRidfGbAtf7UKws4gtEWvDFVdkfadJVmzo09bk\n",
      "Title: Untitled Diagram.drawio, ID: 1JuC7MsgXGWu_8hOYaYYB9HwCVGUr-GhT\n",
      "Title: Audience Analysis, ID: 1dtGYf1eoaBDWo52c9-rEO_WgSyGiV5VpZALXLsl1-EY\n",
      "Title: TP, ID: 1dvTgnTVL3mN7G1XfnRhgKF1U73JZte6BJKXaVgSTY5M\n",
      "Title: NN/g Customer Journey Mapping Template（副本）, ID: 1CF2sgtqbWeQGrTN_Tm6HQqzBlVplGgAPQUkdNlD22UU\n",
      "Title: IET_student_application.pdf, ID: 1diQ-TtTxEgLjVNydoVONeM0uZnw6v2Qv\n",
      "Title: IMG_4593.PNG, ID: 16wfZJ3ej5ZXNxkwaUDi3479cCR2HUFgC\n",
      "Title: 无标题文档, ID: 1pDztY5c_EM_MH0iLvM44BNjiK-qBuJvJ5vtHnmzHZdY\n",
      "Title: Colab Notebooks, ID: 1avHfwe_jO0H_ZU5oAtYMIrYYs5BE-Ssh\n",
      "Title: homework, ID: 1usAhowF6zh5LUhIWfhI3OCaWSYuxDLvvE1u7M9Mb7SA\n"
     ]
    }
   ],
   "source": [
    "# View all folders and file in your Google Drive\n",
    "fileList = drive.ListFile({'q': \"'root' in parents and trashed=false\"}).GetList()\n",
    "for file in fileList:\n",
    "  print('Title: %s, ID: %s' % (file['title'], file['id']))\n",
    "  # Get the folder ID that you want\n",
    "  if(file['title'] == \"CZ3002 Pictures\"):\n",
    "      fileID = file['id']"
   ]
  },
  {
   "cell_type": "code",
   "execution_count": 4,
   "metadata": {},
   "outputs": [
    {
     "data": {
      "text/plain": [
       "<firebase_admin.App at 0x1e01ffd7910>"
      ]
     },
     "execution_count": 4,
     "metadata": {},
     "output_type": "execute_result"
    }
   ],
   "source": [
    "import firebase_admin\n",
    "from firebase_admin import credentials\n",
    "\n",
    "cred = credentials.Certificate(\"C:\\\\Users\\\\User\\Downloads\\cz3002-33787-firebase-adminsdk-mu28c-ef5af6f8bf.json\")\n",
    "firebase_admin.initialize_app(cred)"
   ]
  },
  {
   "cell_type": "code",
   "execution_count": 5,
   "metadata": {},
   "outputs": [],
   "source": [
    "fileArr = os.listdir()\n",
    "def checkDifference():\n",
    "    global fileArr\n",
    "    previousFileArr = fileArr\n",
    "    fileArr = os.listdir()\n",
    "    difference = set(fileArr)-set(previousFileArr)\n",
    "    fileArr = os.listdir()\n",
    "    print(\"Difference check successful\")\n",
    "    return difference"
   ]
  },
  {
   "cell_type": "code",
   "execution_count": 6,
   "metadata": {},
   "outputs": [],
   "source": [
    "def jpgAutoCehckAndUpload():\n",
    "    difference = checkDifference()\n",
    "    if(difference == set()):\n",
    "        print(\"There is no difference\")\n",
    "        return False\n",
    "    else:\n",
    "        for i in difference:\n",
    "            fileUp = drive.CreateFile({\"mimeType\": \"image/jpeg\", \"parents\": [{\"kind\": \"drive#fileLink\", \"id\": fileID}]})\n",
    "            fileUp.SetContentFile(i)\n",
    "            fileUp.Upload() # Upload the file.\n",
    "            print('Created file %s with mimeType %s' % (fileUp['title'], fileUp['mimeType'])) \n",
    "            now = datetime.now()\n",
    "            return [fileUp['id'],now]"
   ]
  },
  {
   "cell_type": "code",
   "execution_count": 7,
   "metadata": {},
   "outputs": [
    {
     "name": "stdout",
     "output_type": "stream",
     "text": [
      "Difference check successful\n",
      "There is no difference\n",
      "False\n",
      "Difference check successful\n",
      "There is no difference\n",
      "False\n",
      "Difference check successful\n",
      "There is no difference\n",
      "False\n",
      "Difference check successful\n",
      "There is no difference\n",
      "False\n",
      "Difference check successful\n",
      "There is no difference\n",
      "False\n",
      "Difference check successful\n",
      "There is no difference\n",
      "False\n",
      "Difference check successful\n",
      "There is no difference\n",
      "False\n",
      "Difference check successful\n",
      "There is no difference\n",
      "False\n",
      "Difference check successful\n",
      "There is no difference\n",
      "False\n",
      "Difference check successful\n",
      "There is no difference\n",
      "False\n"
     ]
    }
   ],
   "source": [
    "flag = 0\n",
    "while(flag!=10):\n",
    "    time.sleep(2)\n",
    "    result = jpgAutoCehckAndUpload()\n",
    "    print(result)\n",
    "    if(result != False):\n",
    "        Pictures_Rec(result[0],result[1]).write()\n",
    "    flag = flag+1"
   ]
  },
  {
   "cell_type": "code",
   "execution_count": 8,
   "metadata": {},
   "outputs": [],
   "source": [
    "from firebase_admin import firestore\n",
    "db = firestore.client()"
   ]
  },
  {
   "cell_type": "code",
   "execution_count": 9,
   "metadata": {},
   "outputs": [],
   "source": [
    "Pictures_Rec_ref = db.collection(u'Pictures')\n",
    "class Pictures_Rec(object):\n",
    "    index = -1\n",
    "    def __init__(self,PictureGID,Time):\n",
    "        self.PictureGID = PictureGID\n",
    "        self.Time = Time\n",
    "        Pictures_Rec.index +=1\n",
    "    def to_dict(self):\n",
    "        return({\n",
    "            \"PictureGID\":self.PictureGID,\n",
    "            \"Time\":self.Time\n",
    "        }\n",
    "        )\n",
    "    def write(self):\n",
    "        Pictures_Rec_ref.document(str(Pictures_Rec.index)).set(self.to_dict())\n",
    "    @staticmethod\n",
    "    def from_dict(d):\n",
    "        return(\n",
    "            Pictures_Rec(d['PictureGID'],d['Time'])\n",
    "        )\n",
    "    def reset():\n",
    "        Pictures_Rec.index = -1\n",
    "    def update(doc, key, value):\n",
    "        db.collection(u'Pictures').document(str(doc)).update({key: value})\n",
    "    def read_to_dic(doc):\n",
    "        return(\n",
    "            db.collection(u'Pictures').document(str(doc)).get().to_dict()\n",
    "        )\n",
    "    def read_to_cla(doc):\n",
    "        return(\n",
    "            Pictures_Rec.from_dict(db.collection(u'Pictures').document(str(doc)).get().to_dict())\n",
    "        )"
   ]
  },
  {
   "cell_type": "code",
   "execution_count": 10,
   "metadata": {},
   "outputs": [],
   "source": [
    "Picture = Pictures_Rec.read_to_dic(0)"
   ]
  },
  {
   "cell_type": "code",
   "execution_count": 13,
   "metadata": {},
   "outputs": [],
   "source": [
    "PictureGID = Picture['PictureGID']"
   ]
  },
  {
   "cell_type": "code",
   "execution_count": 18,
   "metadata": {},
   "outputs": [],
   "source": [
    "def download_file_from_google_drive(id, destination):\n",
    "    URL = \"https://docs.google.com/uc?export=download\"\n",
    "\n",
    "    session = requests.Session()\n",
    "\n",
    "    response = session.get(URL, params = { 'id' : id }, stream = True)\n",
    "    token = get_confirm_token(response)\n",
    "\n",
    "    if token:\n",
    "        params = { 'id' : id, 'confirm' : token }\n",
    "        response = session.get(URL, params = params, stream = True)\n",
    "\n",
    "    save_response_content(response, destination)    \n",
    "\n",
    "def get_confirm_token(response):\n",
    "    for key, value in response.cookies.items():\n",
    "        if key.startswith('download_warning'):\n",
    "            return value\n",
    "\n",
    "    return None\n",
    "\n",
    "def save_response_content(response, destination):\n",
    "    CHUNK_SIZE = 32768\n",
    "\n",
    "    with open(destination, \"wb\") as f:\n",
    "        for chunk in response.iter_content(CHUNK_SIZE):\n",
    "            if chunk: # filter out keep-alive new chunks\n",
    "                f.write(chunk)"
   ]
  },
  {
   "cell_type": "code",
   "execution_count": 24,
   "metadata": {},
   "outputs": [],
   "source": [
    "download_file_from_google_drive(PictureGID,\"C:\\\\Users\\\\User\\Downloads\\D.jpeg\")"
   ]
  },
  {
   "cell_type": "code",
   "execution_count": null,
   "metadata": {},
   "outputs": [],
   "source": []
  }
 ],
 "metadata": {
  "kernelspec": {
   "display_name": "Python 3",
   "language": "python",
   "name": "python3"
  },
  "language_info": {
   "codemirror_mode": {
    "name": "ipython",
    "version": 3
   },
   "file_extension": ".py",
   "mimetype": "text/x-python",
   "name": "python",
   "nbconvert_exporter": "python",
   "pygments_lexer": "ipython3",
   "version": "3.8.5"
  }
 },
 "nbformat": 4,
 "nbformat_minor": 4
}
